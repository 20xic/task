{
 "cells": [
  {
   "cell_type": "code",
   "execution_count": 16,
   "metadata": {},
   "outputs": [
    {
     "name": "stdout",
     "output_type": "stream",
     "text": [
      "  Depature Airport Scheduled depature time Destination Airport  \\\n",
      "0              SVO     2015-10-27 07:40:00                 HAV   \n",
      "1              SVO     2015-10-27 09:50:00                 JFK   \n",
      "2              SVO     2015-10-27 10:45:00                 MIA   \n",
      "3              SVO     2015-10-27 12:30:00                 LAX   \n",
      "4              OTP     2015-10-27 14:15:00                 SVO   \n",
      "\n",
      "  Scheduled arrival time  Delay  \n",
      "0    2015-10-27 20:45:00    0.0  \n",
      "1    2015-10-27 20:35:00    2.0  \n",
      "2    2015-10-27 23:35:00    0.0  \n",
      "3    2015-10-28 01:20:00    0.0  \n",
      "4    2015-10-27 16:40:00    9.0  \n",
      "<class 'pandas.core.frame.DataFrame'>\n",
      "RangeIndex: 675513 entries, 0 to 675512\n",
      "Data columns (total 5 columns):\n",
      " #   Column                   Non-Null Count   Dtype  \n",
      "---  ------                   --------------   -----  \n",
      " 0   Depature Airport         675513 non-null  object \n",
      " 1   Scheduled depature time  675513 non-null  object \n",
      " 2   Destination Airport      675513 non-null  object \n",
      " 3   Scheduled arrival time   675513 non-null  object \n",
      " 4   Delay                    675513 non-null  float64\n",
      "dtypes: float64(1), object(4)\n",
      "memory usage: 25.8+ MB\n",
      "None\n",
      "               Delay\n",
      "count  675513.000000\n",
      "mean        9.912939\n",
      "std        44.895875\n",
      "min         0.000000\n",
      "25%         0.000000\n",
      "50%         0.000000\n",
      "75%         5.000000\n",
      "max      1436.000000\n"
     ]
    }
   ],
   "source": [
    "\n",
    "# Импорт необходимых библиотек\n",
    "import pandas as pd\n",
    "import numpy as np\n",
    "from sklearn.model_selection import train_test_split\n",
    "from sklearn.preprocessing import LabelEncoder\n",
    "from sklearn.linear_model import LinearRegression, Ridge\n",
    "from sklearn.ensemble import RandomForestRegressor\n",
    "from sklearn.metrics import mean_squared_error, r2_score\n",
    "import matplotlib.pyplot as plt\n",
    "import seaborn as sns\n",
    "from datetime import datetime\n",
    "\n",
    "# Загрузка данных\n",
    "data = pd.read_csv('flight_delay.csv')\n",
    "\n",
    "# Предварительный анализ данных\n",
    "print(data.head())\n",
    "print(data.info())\n",
    "print(data.describe())\n",
    "\n",
    "\n",
    "departureAirportColumn = data.columns[0]\n",
    "destinationAirportColumn = data.columns[2]\n",
    "scheduledDepartureTimeColumn = data.columns[1]\n",
    "scheduledArrivalTimeColumn = data.columns[3]\n",
    "delayColumn=data.columns[4]\n",
    "\n"
   ]
  },
  {
   "cell_type": "code",
   "execution_count": 23,
   "metadata": {},
   "outputs": [
    {
     "name": "stdout",
     "output_type": "stream",
     "text": [
      "Index(['Depature Airport', 'Scheduled depature time', 'Destination Airport',\n",
      "       'Scheduled arrival time', 'Delay', 'Year', 'Month', 'Day',\n",
      "       'Day of week', 'Flight duration'],\n",
      "      dtype='object')\n"
     ]
    }
   ],
   "source": [
    "# Обработка строковых данных\n",
    "le = LabelEncoder()\n",
    "data[departureAirportColumn] = le.fit_transform(data[departureAirportColumn])\n",
    "data[destinationAirportColumn] = le.fit_transform(data[destinationAirportColumn])\n",
    "\n",
    "# Преобразование временных меток в datetime\n",
    "data[scheduledDepartureTimeColumn] = pd.to_datetime(data[scheduledDepartureTimeColumn])\n",
    "data[scheduledArrivalTimeColumn] = pd.to_datetime(data[scheduledArrivalTimeColumn])\n",
    "\n",
    "# Извлечение признаков из временных меток\n",
    "data['Year'] = data[scheduledDepartureTimeColumn].dt.year\n",
    "data['Month'] = data[scheduledDepartureTimeColumn].dt.month\n",
    "data['Day'] = data[scheduledDepartureTimeColumn].dt.day\n",
    "data['Day of week'] = data[scheduledDepartureTimeColumn].dt.dayofweek\n",
    "\n",
    "print(data.columns)"
   ]
  },
  {
   "cell_type": "code",
   "execution_count": 25,
   "metadata": {},
   "outputs": [],
   "source": [
    "# Рассчет продолжительности полета\n",
    "data['Flight duration'] = (data[scheduledArrivalTimeColumn] - data[scheduledDepartureTimeColumn]).dt.total_seconds() / 60\n",
    "\n",
    "# Разделение данных на обучающую и тестовую выборки\n",
    "train_data = data[data['Year'] < 2018]\n",
    "test_data = data[data['Year'] == 2018]\n",
    "\n",
    "X_train = train_data[[departureAirportColumn, destinationAirportColumn, 'Month', 'Day', 'Day of week', 'Flight duration']]\n",
    "y_train = train_data['Delay']\n",
    "X_test = test_data[[departureAirportColumn, destinationAirportColumn, 'Month', 'Day', 'Day of week', 'Flight duration']]\n",
    "y_test = test_data['Delay']\n",
    "\n",
    "# Обнаружение и удаление выбросов (используем межквартильный размах на одном месяце)\n",
    "month_data = data[data['Month'] == 1]  # пример для января\n",
    "q1 = month_data['Delay'].quantile(0.25)\n",
    "q3 = month_data['Delay'].quantile(0.75)\n",
    "iqr = q3 - q1\n",
    "lower_bound = q1 - 1.5 * iqr\n",
    "upper_bound = q3 + 1.5 * iqr\n",
    "data = data[(data['Delay'] >= lower_bound) & (data['Delay'] <= upper_bound)]\n",
    "\n",
    "# Обучение моделей машинного обучения\n",
    "models = {\n",
    "    'Linear Regression': LinearRegression(),\n",
    "    'Ridge Regression': Ridge(),\n",
    "    'Random Forest': RandomForestRegressor()\n",
    "}\n"
   ]
  },
  {
   "cell_type": "code",
   "execution_count": 26,
   "metadata": {},
   "outputs": [
    {
     "name": "stdout",
     "output_type": "stream",
     "text": [
      "Linear Regression - Train MSE: 2148.70, Test MSE: 1615.50, Train R2: 0.00, Test R2: -0.01\n",
      "Ridge Regression - Train MSE: 2148.70, Test MSE: 1615.50, Train R2: 0.00, Test R2: -0.01\n",
      "Random Forest - Train MSE: 740.56, Test MSE: 2339.18, Train R2: 0.66, Test R2: -0.46\n",
      "                     Train MSE     Test MSE  Train R2   Test R2\n",
      "Linear Regression  2148.698470  1615.503770  0.003364 -0.007944\n",
      "Ridge Regression   2148.698470  1615.503771  0.003364 -0.007944\n",
      "Random Forest       740.556647  2339.180683  0.656506 -0.459460\n"
     ]
    }
   ],
   "source": [
    "# Оценка моделей и сравнение их результатов\n",
    "results = {}\n",
    "for name, model in models.items():\n",
    "    model.fit(X_train, y_train)\n",
    "    y_pred_train = model.predict(X_train)\n",
    "    y_pred_test = model.predict(X_test)\n",
    "    train_mse = mean_squared_error(y_train, y_pred_train)\n",
    "    test_mse = mean_squared_error(y_test, y_pred_test)\n",
    "    train_r2 = r2_score(y_train, y_pred_train)\n",
    "    test_r2 = r2_score(y_test, y_pred_test)\n",
    "    results[name] = {\n",
    "        'Train MSE': train_mse,\n",
    "        'Test MSE': test_mse,\n",
    "        'Train R2': train_r2,\n",
    "        'Test R2': test_r2\n",
    "    }\n",
    "    print(f\"{name} - Train MSE: {train_mse:.2f}, Test MSE: {test_mse:.2f}, Train R2: {train_r2:.2f}, Test R2: {test_r2:.2f}\")\n",
    "\n",
    "# Сравнение моделей\n",
    "results_df = pd.DataFrame(results).T\n",
    "print(results_df)"
   ]
  },
  {
   "cell_type": "code",
   "execution_count": 27,
   "metadata": {},
   "outputs": [
    {
     "name": "stderr",
     "output_type": "stream",
     "text": [
      "C:\\Users\\twent\\AppData\\Local\\Temp\\ipykernel_509428\\3159783843.py:3: FutureWarning: \n",
      "\n",
      "Passing `palette` without assigning `hue` is deprecated and will be removed in v0.14.0. Assign the `x` variable to `hue` and set `legend=False` for the same effect.\n",
      "\n",
      "  sns.barplot(data=results_df.reset_index(), x='index', y='Test R2', palette='viridis')\n"
     ]
    },
    {
     "data": {
      "image/png": "[encoded data removed]",
      "text/plain": [
       "<Figure size 1000x500 with 1 Axes>"
      ]
     },
     "metadata": {},
     "output_type": "display_data"
    }
   ],
   "source": [
    "# Визуализация результатов\n",
    "plt.figure(figsize=(10, 5))\n",
    "sns.barplot(data=results_df.reset_index(), x='index', y='Test R2', palette='viridis')\n",
    "plt.title('Comparison of Model Test R2 Scores')\n",
    "plt.xlabel('Model')\n",
    "plt.ylabel('Test R2 Score')\n",
    "plt.show()"
   ]
  }
 ],
 "metadata": {
  "kernelspec": {
   "display_name": "Python 3",
   "language": "python",
   "name": "python3"
  },
  "language_info": {
   "codemirror_mode": {
    "name": "ipython",
    "version": 3
   },
   "file_extension": ".py",
   "mimetype": "text/x-python",
   "name": "python",
   "nbconvert_exporter": "python",
   "pygments_lexer": "ipython3",
   "version": "3.12.6"
  }
 },
 "nbformat": 4,
 "nbformat_minor": 2
}
